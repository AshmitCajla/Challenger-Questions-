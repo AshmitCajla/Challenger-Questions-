{
 "cells": [
  {
   "cell_type": "code",
   "execution_count": 4,
   "id": "404c4f10",
   "metadata": {},
   "outputs": [
    {
     "name": "stdout",
     "output_type": "stream",
     "text": [
      "Sorted List ---> [2, 3, 11, 783, 2479, 'Aman', 'Ram', 'Shyam', 'fll', 'sdk']\n"
     ]
    }
   ],
   "source": [
    "L = [\"Ram\", 11, \"Shyam\", 2, \"Aman\", 3, 'sdk', 783, 2479, 'fll',7802.2 , 54.5]\n",
    "spr = []\n",
    "ite = []\n",
    "for i in L:\n",
    "    if str(i).isnumeric()== True:\n",
    "       ite.append(i)\n",
    "    if str(i).isalpha()== True:\n",
    "       spr.append(i)\n",
    "ite.sort()\n",
    "spr.sort()\n",
    "Resortedlist = ite + spr\n",
    "print ('Sorted List --->', Resortedlist) "
   ]
  },
  {
   "cell_type": "code",
   "execution_count": null,
   "id": "7e53a8ba",
   "metadata": {},
   "outputs": [],
   "source": []
  }
 ],
 "metadata": {
  "kernelspec": {
   "display_name": "Python 3 (ipykernel)",
   "language": "python",
   "name": "python3"
  },
  "language_info": {
   "codemirror_mode": {
    "name": "ipython",
    "version": 3
   },
   "file_extension": ".py",
   "mimetype": "text/x-python",
   "name": "python",
   "nbconvert_exporter": "python",
   "pygments_lexer": "ipython3",
   "version": "3.10.9"
  }
 },
 "nbformat": 4,
 "nbformat_minor": 5
}
